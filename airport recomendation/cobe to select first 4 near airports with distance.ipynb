{
 "cells": [
  {
   "cell_type": "code",
   "execution_count": 12,
   "id": "a3e33c43-5f68-4d51-abea-02e4ad3082c4",
   "metadata": {},
   "outputs": [],
   "source": [
    "import pandas as pd"
   ]
  },
  {
   "cell_type": "code",
   "execution_count": 13,
   "id": "094147c6-8315-4bb1-b51f-b293efa52c6e",
   "metadata": {},
   "outputs": [],
   "source": [
    "cords=pd.read_csv(\"airports_2019_01_24_09_23_19_531296.csv\")"
   ]
  },
  {
   "cell_type": "code",
   "execution_count": 14,
   "id": "766c5465-1769-466b-ac3a-bd54f2f5e97e",
   "metadata": {},
   "outputs": [],
   "source": [
    "cords=cords[['type','name','location.longitude','location.latitude','scheduled_service']]"
   ]
  },
  {
   "cell_type": "code",
   "execution_count": 20,
   "id": "871b8603-4253-479b-8dc2-cf3d1b0e4cd1",
   "metadata": {},
   "outputs": [
    {
     "name": "stdout",
     "output_type": "stream",
     "text": [
      "<class 'pandas.core.frame.DataFrame'>\n",
      "Index: 31 entries, 0 to 30\n",
      "Data columns (total 5 columns):\n",
      " #   Column              Non-Null Count  Dtype  \n",
      "---  ------              --------------  -----  \n",
      " 0   type                31 non-null     object \n",
      " 1   name                31 non-null     object \n",
      " 2   location.longitude  31 non-null     float64\n",
      " 3   location.latitude   31 non-null     float64\n",
      " 4   scheduled_service   31 non-null     float64\n",
      "dtypes: float64(3), object(2)\n",
      "memory usage: 1.5+ KB\n"
     ]
    }
   ],
   "source": [
    "cords.info()"
   ]
  },
  {
   "cell_type": "code",
   "execution_count": 19,
   "id": "87e6a4ff-f106-41a0-ae03-da81fe96e65e",
   "metadata": {},
   "outputs": [],
   "source": [
    "cords=cords.dropna()"
   ]
  },
  {
   "cell_type": "code",
   "execution_count": 23,
   "id": "1fe27a7f-8157-4ad9-baf7-8b7a10952539",
   "metadata": {},
   "outputs": [
    {
     "name": "stdin",
     "output_type": "stream",
     "text": [
      "Enter an airport name:  Ambodedjo Airport\n"
     ]
    },
    {
     "name": "stdout",
     "output_type": "stream",
     "text": [
      "The nearest airport to Ambodedjo Airport is Bandiagara Airport at a distance of 56.6651 kilometers.with Scheduled Service: 0.0\n",
      "The nearest airport to Ambodedjo Airport is Douentza Airport at a distance of 139.4869 kilometers.with Scheduled Service: 0.0\n",
      "The nearest airport to Ambodedjo Airport is Ke-Macina Airport at a distance of 156.3390 kilometers.with Scheduled Service: 0.0\n",
      "The nearest airport to Ambodedjo Airport is Niafunke Airport at a distance of 157.8557 kilometers.with Scheduled Service: 0.0\n"
     ]
    }
   ],
   "source": [
    "from shapely.geometry import Point\n",
    "from geopy.distance import geodesic\n",
    "\n",
    "\n",
    "#gets airport name and finds its co-ordinates\n",
    "def get_airport_coordinates(name):\n",
    "    if name in cords['name'].values:\n",
    "        airport_row=cords[cords['name']==name].iloc[0]\n",
    "        longitude=airport_row['location.longitude']\n",
    "        latitude=airport_row['location.latitude']\n",
    "        return longitude, latitude\n",
    "    else:\n",
    "        return None\n",
    "\n",
    "\n",
    "#finds the nearest airport 4 airports\n",
    "def find_nearest_airport(name,longitude,latitude,):\n",
    "    user_location=(longitude,latitude)\n",
    "    nearest_airports=[]\n",
    "    \n",
    "    for index,row in cords.iterrows():\n",
    "        if row['name']!=name:\n",
    "            next_airport_location=(row['location.longitude'],row['location.latitude'])\n",
    "            distance = geodesic(user_location,next_airport_location).kilometers\n",
    "            nearest_airports.append((row['name'],distance,row['scheduled_service']))\n",
    "\n",
    "    nearest_airports.sort(key=lambda x: x[1])        \n",
    "    return nearest_airports[:4]\n",
    "\n",
    "name = input('Enter an airport name: ')\n",
    "coordinates = get_airport_coordinates(name)\n",
    "if coordinates:\n",
    "    next_airport = find_nearest_airport(name,*coordinates)\n",
    "    for airport_name,distance,schedules in next_airport:\n",
    "    \n",
    "        print(f\"The nearest airport to {name} is {airport_name} at a distance of {distance:.4f} kilometers.with Scheduled Service: {schedules}\")\n",
    "    #print(f\"Scheduled Service: {schedules}\")\n",
    "else:\n",
    "    print(\"The airport does not exist.\")\n"
   ]
  },
  {
   "cell_type": "code",
   "execution_count": null,
   "id": "af6ce7a8-d108-438b-b937-2de9c9d3a740",
   "metadata": {},
   "outputs": [],
   "source": []
  }
 ],
 "metadata": {
  "kernelspec": {
   "display_name": "Python 3 (ipykernel)",
   "language": "python",
   "name": "python3"
  },
  "language_info": {
   "codemirror_mode": {
    "name": "ipython",
    "version": 3
   },
   "file_extension": ".py",
   "mimetype": "text/x-python",
   "name": "python",
   "nbconvert_exporter": "python",
   "pygments_lexer": "ipython3",
   "version": "3.12.3"
  }
 },
 "nbformat": 4,
 "nbformat_minor": 5
}
