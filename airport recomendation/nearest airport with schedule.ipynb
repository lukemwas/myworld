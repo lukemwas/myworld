{
 "cells": [
  {
   "cell_type": "code",
   "execution_count": 1,
   "id": "ac31cf8f-3ba7-48c8-8c2f-edeb7e4c61bf",
   "metadata": {},
   "outputs": [],
   "source": [
    "import pandas as pd"
   ]
  },
  {
   "cell_type": "code",
   "execution_count": 2,
   "id": "af3825b9-c803-4e5b-b099-c9c852ac80a7",
   "metadata": {},
   "outputs": [],
   "source": [
    "cords=pd.read_csv(\"airports_2019_01_24_09_23_19_531296.csv\")"
   ]
  },
  {
   "cell_type": "code",
   "execution_count": 3,
   "id": "1d04803f-68aa-467f-9e04-a0e0cf0fb2c1",
   "metadata": {},
   "outputs": [
    {
     "name": "stdout",
     "output_type": "stream",
     "text": [
      "<class 'pandas.core.frame.DataFrame'>\n",
      "RangeIndex: 33 entries, 0 to 32\n",
      "Data columns (total 32 columns):\n",
      " #   Column               Non-Null Count  Dtype  \n",
      "---  ------               --------------  -----  \n",
      " 0   id                   31 non-null     float64\n",
      " 1   ident                31 non-null     object \n",
      " 2   type                 31 non-null     object \n",
      " 3   name                 31 non-null     object \n",
      " 4   location.longitude   31 non-null     float64\n",
      " 5   location.latitude    31 non-null     float64\n",
      " 6   location             31 non-null     object \n",
      " 7   _location_latitude   30 non-null     float64\n",
      " 8   _location_longitude  30 non-null     float64\n",
      " 9   _location_altitude   0 non-null      float64\n",
      " 10  _location_precision  0 non-null      float64\n",
      " 11  elevation_ft         31 non-null     float64\n",
      " 12  iso_region           32 non-null     object \n",
      " 13  municipality         26 non-null     object \n",
      " 14  scheduled_service    31 non-null     float64\n",
      " 15  gps_code             30 non-null     object \n",
      " 16  iata_code            1 non-null      object \n",
      " 17  local_code           0 non-null      float64\n",
      " 18  home_link            9 non-null      object \n",
      " 19  meta/instanceID      33 non-null     object \n",
      " 20  _id                  33 non-null     int64  \n",
      " 21  _uuid                33 non-null     object \n",
      " 22  _submission_time     33 non-null     object \n",
      " 23  _tags                0 non-null      float64\n",
      " 24  _notes               0 non-null      float64\n",
      " 25  _version             33 non-null     int64  \n",
      " 26  _duration            0 non-null      float64\n",
      " 27  _submitted_by        0 non-null      float64\n",
      " 28  _total_media         2 non-null      float64\n",
      " 29  _media_count         2 non-null      float64\n",
      " 30  _media_all_received  2 non-null      object \n",
      " 31  _xform_id            2 non-null      float64\n",
      "dtypes: float64(17), int64(2), object(13)\n",
      "memory usage: 8.4+ KB\n"
     ]
    }
   ],
   "source": [
    "cords.info()"
   ]
  },
  {
   "cell_type": "code",
   "execution_count": 4,
   "id": "50fe0bf0-602a-4e58-bf99-55ae6e2c5f6e",
   "metadata": {},
   "outputs": [],
   "source": [
    "cords=cords[['type','name','location.longitude','location.latitude','scheduled_service']]\n",
    "#'type',,'name','location.longitude','location.latitude','scheduled_service'"
   ]
  },
  {
   "cell_type": "code",
   "execution_count": 5,
   "id": "319b06ae-fb8c-44f5-a9c0-e768cacc5842",
   "metadata": {},
   "outputs": [
    {
     "data": {
      "text/html": [
       "<div>\n",
       "<style scoped>\n",
       "    .dataframe tbody tr th:only-of-type {\n",
       "        vertical-align: middle;\n",
       "    }\n",
       "\n",
       "    .dataframe tbody tr th {\n",
       "        vertical-align: top;\n",
       "    }\n",
       "\n",
       "    .dataframe thead th {\n",
       "        text-align: right;\n",
       "    }\n",
       "</style>\n",
       "<table border=\"1\" class=\"dataframe\">\n",
       "  <thead>\n",
       "    <tr style=\"text-align: right;\">\n",
       "      <th></th>\n",
       "      <th>type</th>\n",
       "      <th>name</th>\n",
       "      <th>location.longitude</th>\n",
       "      <th>location.latitude</th>\n",
       "      <th>scheduled_service</th>\n",
       "    </tr>\n",
       "  </thead>\n",
       "  <tbody>\n",
       "    <tr>\n",
       "      <th>0</th>\n",
       "      <td>medium_airport</td>\n",
       "      <td>Senou Airport</td>\n",
       "      <td>-7.94994</td>\n",
       "      <td>12.5335</td>\n",
       "      <td>1.0</td>\n",
       "    </tr>\n",
       "    <tr>\n",
       "      <th>1</th>\n",
       "      <td>medium_airport</td>\n",
       "      <td>Kayes Dag Dag Airport</td>\n",
       "      <td>-11.40440</td>\n",
       "      <td>14.4812</td>\n",
       "      <td>1.0</td>\n",
       "    </tr>\n",
       "    <tr>\n",
       "      <th>2</th>\n",
       "      <td>medium_airport</td>\n",
       "      <td>Ambodedjo Airport</td>\n",
       "      <td>-4.07956</td>\n",
       "      <td>14.5128</td>\n",
       "      <td>1.0</td>\n",
       "    </tr>\n",
       "  </tbody>\n",
       "</table>\n",
       "</div>"
      ],
      "text/plain": [
       "             type                   name  location.longitude  \\\n",
       "0  medium_airport          Senou Airport            -7.94994   \n",
       "1  medium_airport  Kayes Dag Dag Airport           -11.40440   \n",
       "2  medium_airport      Ambodedjo Airport            -4.07956   \n",
       "\n",
       "   location.latitude  scheduled_service  \n",
       "0            12.5335                1.0  \n",
       "1            14.4812                1.0  \n",
       "2            14.5128                1.0  "
      ]
     },
     "execution_count": 5,
     "metadata": {},
     "output_type": "execute_result"
    }
   ],
   "source": [
    "cords.head(3)"
   ]
  },
  {
   "cell_type": "code",
   "execution_count": 11,
   "id": "dd3374ef-53d0-46d0-8eb7-257c789fc5ca",
   "metadata": {},
   "outputs": [
    {
     "name": "stdin",
     "output_type": "stream",
     "text": [
      "Enter an airport name:  Bandiagara Airport\n"
     ]
    },
    {
     "name": "stdout",
     "output_type": "stream",
     "text": [
      "Longitude: -3.599999905, Latitude: 14.33300018\n",
      "The nearest airport to Bandiagara Airport is Ambodedjo Airport at a distance of 56.6651 Klometers.\n",
      "Scheduled Service: 1.0\n"
     ]
    }
   ],
   "source": [
    "from shapely.geometry import Point\n",
    "from geopy.distance import geodesic\n",
    "\n",
    "\n",
    "\n",
    "#gets airport name and finds its co-ordinates\n",
    "def get_airport_coordinates(name):\n",
    "    if name in cords['name'].values:\n",
    "        airport_row=cords[cords['name']==name].iloc[0]\n",
    "        longitude=airport_row['location.longitude']\n",
    "        latitude=airport_row['location.latitude']\n",
    "        return longitude,latitude\n",
    "    else:\n",
    "        return None\n",
    "\n",
    "\n",
    "#finds the nearest airport\n",
    "def find_nearest_airport(name,longitude,latitude):\n",
    "    user_location=(longitude,latitude)\n",
    "    nearest_airport=None\n",
    "    min_distance=float('inf')\n",
    "    \n",
    "    for index,row in cords.iterrows():\n",
    "        if row['scheduled_service']==1 and row['name']!=name:\n",
    "            next_airport_location=(row['location.longitude'],row['location.latitude'])\n",
    "            distance = geodesic(user_location,next_airport_location).kilometers\n",
    "        \n",
    "            if distance<min_distance:\n",
    "                min_distance=distance\n",
    "                nearest_airport=row['name']\n",
    "                schedules=row['scheduled_service']\n",
    "            \n",
    "    return nearest_airport,min_distance,schedules\n",
    "\n",
    "\n",
    "name = input('Enter an airport name: ')\n",
    "coordinates = get_airport_coordinates(name)\n",
    "if coordinates:\n",
    "   print(f\"Longitude: {coordinates[0]}, Latitude: {coordinates[1]}\")\n",
    "\n",
    "#if coordinates:\n",
    "  #  longitude, latitude = coordinates\n",
    "  #  next_airport, distance, schedules = nearest_airport(longitude, latitude)\n",
    "   # if next_airport:\n",
    "   #     print(f\"The nearest airport to {name} is {next_airport} at a distance of {distance:.2f} kilometers.\")\n",
    "   #     print(f\"Scheduled Service: {'Available' if schedules == 1 else 'Not Available'}\")\n",
    "   # else:\n",
    "    #    print(\"No nearby airport with scheduled services found.\")\n",
    "else:\n",
    "    print(\"The airport does not exist.\")\n",
    "\n",
    "#next_airport=nearest_airport(*cordinates)\n",
    "if coordinates:\n",
    "    nearest_airport, min_distance, schedules = find_nearest_airport(name,*coordinates)\n",
    "    print(f\"The nearest airport to {name} is {nearest_airport} at a distance of {min_distance:.4f} Klometers.\")\n",
    "    print(f\"Scheduled Service: {schedules}\")\n",
    "else:\n",
    "    print(\"The airport does not exist.\")\n",
    "\n"
   ]
  },
  {
   "cell_type": "code",
   "execution_count": null,
   "id": "9cb5afb6-ef74-44d6-9c0c-cd90177318ce",
   "metadata": {},
   "outputs": [],
   "source": []
  }
 ],
 "metadata": {
  "kernelspec": {
   "display_name": "Python 3 (ipykernel)",
   "language": "python",
   "name": "python3"
  },
  "language_info": {
   "codemirror_mode": {
    "name": "ipython",
    "version": 3
   },
   "file_extension": ".py",
   "mimetype": "text/x-python",
   "name": "python",
   "nbconvert_exporter": "python",
   "pygments_lexer": "ipython3",
   "version": "3.12.3"
  }
 },
 "nbformat": 4,
 "nbformat_minor": 5
}
