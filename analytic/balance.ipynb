{
 "cells": [
  {
   "cell_type": "code",
   "execution_count": 1,
   "id": "0f327b5e-27f0-484b-a82e-843df3b1b339",
   "metadata": {},
   "outputs": [],
   "source": [
    "import matplotlib.pyplot as plt\n",
    "import pandas as pd"
   ]
  },
  {
   "cell_type": "code",
   "execution_count": 2,
   "id": "cedd9cfc-bb36-4e9c-97f7-687f5018ef0c",
   "metadata": {},
   "outputs": [],
   "source": [
    "data=pd.read_csv(\"10000 BT Records.csv\")"
   ]
  },
  {
   "cell_type": "code",
   "execution_count": 3,
   "id": "4467b3c5-2412-4b28-8bdc-dae4ae3bef54",
   "metadata": {},
   "outputs": [],
   "source": [
    "data['Balance']=pd.to_numeric(data['Balance'].str.replace(',',''), errors='coerce')"
   ]
  },
  {
   "cell_type": "code",
   "execution_count": 4,
   "id": "5d54a99a-5c90-4152-b576-f360d5a97590",
   "metadata": {},
   "outputs": [
    {
     "name": "stdout",
     "output_type": "stream",
     "text": [
      "<class 'pandas.core.frame.DataFrame'>\n",
      "RangeIndex: 10000 entries, 0 to 9999\n",
      "Data columns (total 5 columns):\n",
      " #   Column       Non-Null Count  Dtype  \n",
      "---  ------       --------------  -----  \n",
      " 0   Date         10000 non-null  object \n",
      " 1   Description  10000 non-null  object \n",
      " 2   Deposits     10000 non-null  object \n",
      " 3   Withdrawls   10000 non-null  object \n",
      " 4   Balance      10000 non-null  float64\n",
      "dtypes: float64(1), object(4)\n",
      "memory usage: 390.8+ KB\n"
     ]
    }
   ],
   "source": [
    "data.info()"
   ]
  },
  {
   "cell_type": "code",
   "execution_count": 6,
   "id": "024a22db-c8bd-4947-90c7-b41219a0c462",
   "metadata": {},
   "outputs": [],
   "source": [
    "#convert date to datetime\n",
    "data['Date']=pd.to_datetime(data['Date'], format='%d-%b-%Y')"
   ]
  },
  {
   "cell_type": "code",
   "execution_count": 7,
   "id": "9a2dc494-5270-4e6e-849b-7387cb2f3d91",
   "metadata": {},
   "outputs": [],
   "source": [
    "#sort the data value with new date\n",
    "data=data.sort_values(by='Date')"
   ]
  },
  {
   "cell_type": "code",
   "execution_count": 9,
   "id": "e7479b0b-0b8f-4c1d-a72b-d48ac8b3bfcc",
   "metadata": {},
   "outputs": [
    {
     "name": "stdout",
     "output_type": "stream",
     "text": [
      "2020-08\n"
     ]
    }
   ],
   "source": [
    "#locate the first month\n",
    "firstmonth=data['Date'].dt.to_period('M').iloc[0]\n",
    "print(firstmonth)"
   ]
  },
  {
   "cell_type": "code",
   "execution_count": 11,
   "id": "abc53c83-e562-4d43-a296-ef311213b5a4",
   "metadata": {},
   "outputs": [
    {
     "name": "stdout",
     "output_type": "stream",
     "text": [
      "          Date Description      Deposits  Withdrawls     Balance\n",
      "0   2020-08-20        Cash     97,540.00       00.00   170542.01\n",
      "24  2020-08-20        NEFT  1,986,737.80       00.00  1992819.23\n",
      "25  2020-08-20    Reversal         00.00  664,273.08  1328546.15\n",
      "26  2020-08-20        Cash         03.81       00.00  1328549.96\n",
      "27  2020-08-20        RTGS      1,474.00       00.00  1330023.96\n",
      "..         ...         ...           ...         ...         ...\n",
      "289 2020-08-30      Cheque         00.00       57.81       57.80\n",
      "296 2020-08-30         ATM      3,312.00       00.00  1054995.46\n",
      "287 2020-08-30        RTGS         00.00       26.98      134.88\n",
      "307 2020-08-31  Commission         17.00       00.00   440469.07\n",
      "308 2020-08-31    Interest         00.00  220,234.54   220234.54\n",
      "\n",
      "[309 rows x 5 columns]\n"
     ]
    }
   ],
   "source": [
    "#create data set\n",
    "firstmonthdata=data[data['Date'].dt.to_period('M')==firstmonth]\n",
    "print(firstmonthdata)"
   ]
  },
  {
   "cell_type": "code",
   "execution_count": 12,
   "id": "07cd0f11-f2ff-4bfb-93f9-9c7686d5c40a",
   "metadata": {},
   "outputs": [
    {
     "name": "stdout",
     "output_type": "stream",
     "text": [
      "         Date      Balance\n",
      "0  2020-08-20  21398384.09\n",
      "1  2020-08-21   6056774.48\n",
      "2  2020-08-22   8512223.81\n",
      "3  2020-08-23  25165555.16\n",
      "4  2020-08-24  23158134.02\n",
      "5  2020-08-25      6307.69\n",
      "6  2020-08-26    102888.01\n",
      "7  2020-08-27  11917708.62\n",
      "8  2020-08-28   3200809.09\n",
      "9  2020-08-29  12315154.47\n",
      "10 2020-08-30   7894691.97\n",
      "11 2020-08-31    660703.61\n"
     ]
    }
   ],
   "source": [
    "#sum up the dates\n",
    "firstmonthsum=firstmonthdata.groupby('Date')['Balance'].sum().reset_index()\n",
    "print(firstmonthsum)"
   ]
  },
  {
   "cell_type": "code",
   "execution_count": 15,
   "id": "94d37858-a69c-4de2-ba58-799476736ca1",
   "metadata": {},
   "outputs": [
    {
     "data": {
      "image/png": "[encoded data removed]",
      "text/plain": [
       "<Figure size 1000x500 with 1 Axes>"
      ]
     },
     "metadata": {},
     "output_type": "display_data"
    }
   ],
   "source": [
    "plt.figure(figsize=(10,5))\n",
    "plt.bar(firstmonthsum['Date'].dt.strftime('%d-%b-%Y'),firstmonthsum['Balance'],color='g')\n",
    "plt.xticks(rotation=45,fontsize=7)\n",
    "plt.yticks(fontsize=7)\n",
    "plt.title('balance chart')\n",
    "plt.show()"
   ]
  },
  {
   "cell_type": "code",
   "execution_count": null,
   "id": "d4a2130b-b541-4dfa-bbc3-725f9046b378",
   "metadata": {},
   "outputs": [],
   "source": []
  }
 ],
 "metadata": {
  "kernelspec": {
   "display_name": "Python 3 (ipykernel)",
   "language": "python",
   "name": "python3"
  },
  "language_info": {
   "codemirror_mode": {
    "name": "ipython",
    "version": 3
   },
   "file_extension": ".py",
   "mimetype": "text/x-python",
   "name": "python",
   "nbconvert_exporter": "python",
   "pygments_lexer": "ipython3",
   "version": "3.12.3"
  }
 },
 "nbformat": 4,
 "nbformat_minor": 5
}
