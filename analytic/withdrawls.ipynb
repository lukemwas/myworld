{
 "cells": [
  {
   "cell_type": "code",
   "execution_count": 1,
   "id": "cde1ffd7-061a-4af0-a6e6-4f4e08e2eb55",
   "metadata": {},
   "outputs": [],
   "source": [
    "import pandas as pd\n",
    "import numpy as np\n",
    "from matplotlib import pyplot as plt"
   ]
  },
  {
   "cell_type": "code",
   "execution_count": 2,
   "id": "905fa2f0-c090-4fe2-a281-905d152e6ba1",
   "metadata": {},
   "outputs": [],
   "source": [
    "#load th data\n",
    "data = pd.read_csv(\"10000 BT Records.csv\")"
   ]
  },
  {
   "cell_type": "code",
   "execution_count": 3,
   "id": "58c9f238-160a-4ec6-939f-3c2603c2aeae",
   "metadata": {},
   "outputs": [],
   "source": [
    "#convert deposit to float\n",
    "data[\"Withdrawls\"]=pd.to_numeric(data[\"Withdrawls\"].str.replace(\",\",\"\"), errors=\"coerce\")"
   ]
  },
  {
   "cell_type": "code",
   "execution_count": 4,
   "id": "34ffb4cb-406a-4152-b2f6-b4182062fddd",
   "metadata": {},
   "outputs": [
    {
     "name": "stdout",
     "output_type": "stream",
     "text": [
      "<class 'pandas.core.frame.DataFrame'>\n",
      "RangeIndex: 10000 entries, 0 to 9999\n",
      "Data columns (total 5 columns):\n",
      " #   Column       Non-Null Count  Dtype  \n",
      "---  ------       --------------  -----  \n",
      " 0   Date         10000 non-null  object \n",
      " 1   Description  10000 non-null  object \n",
      " 2   Deposits     10000 non-null  object \n",
      " 3   Withdrawls   10000 non-null  float64\n",
      " 4   Balance      10000 non-null  object \n",
      "dtypes: float64(1), object(4)\n",
      "memory usage: 390.8+ KB\n"
     ]
    }
   ],
   "source": [
    "data.info()"
   ]
  },
  {
   "cell_type": "code",
   "execution_count": 5,
   "id": "b55c8bc0-011e-4811-abd3-6d351ea63b0c",
   "metadata": {},
   "outputs": [],
   "source": [
    "#convert date to datetime\n",
    "data['Date']=pd.to_datetime(data['Date'], format='%d-%b-%Y')"
   ]
  },
  {
   "cell_type": "code",
   "execution_count": 6,
   "id": "fa4a65b7-e57e-41bd-92c4-5b3356348fcb",
   "metadata": {},
   "outputs": [
    {
     "name": "stdout",
     "output_type": "stream",
     "text": [
      "           Date Description   Deposits  Withdrawls     Balance\n",
      "0    2020-08-20        Cash  97,540.00        0.00  170,542.01\n",
      "1    2020-08-20  Commission      00.00    34108.40  136,433.61\n",
      "2    2020-08-20         ATM      41.00        0.00  136,474.61\n",
      "3    2020-08-20    Interest      50.00        0.00  136,524.61\n",
      "4    2020-08-20  Commission      00.00    34131.15  102,393.46\n",
      "...         ...         ...        ...         ...         ...\n",
      "9995 2021-09-08         ATM      02.70        0.00  370,982.04\n",
      "9996 2021-09-08        RTGS      00.00    37098.20  333,883.84\n",
      "9997 2021-09-08    Purchase      00.00   111294.61  222,589.23\n",
      "9998 2021-09-08         ATM      00.68        0.00  222,589.91\n",
      "9999 2021-09-08    Purchase  93,504.00        0.00  316,093.91\n",
      "\n",
      "[10000 rows x 5 columns]\n"
     ]
    }
   ],
   "source": [
    "print(data)"
   ]
  },
  {
   "cell_type": "code",
   "execution_count": 7,
   "id": "611e7e0e-0e13-4e21-9120-f85eb5af3c00",
   "metadata": {},
   "outputs": [],
   "source": [
    "#sort the data by new date\n",
    "data=data.sort_values(by='Date')"
   ]
  },
  {
   "cell_type": "code",
   "execution_count": 8,
   "id": "49e8ce4f-62ed-48e3-8ce2-d66c60ce9fbf",
   "metadata": {},
   "outputs": [
    {
     "name": "stdout",
     "output_type": "stream",
     "text": [
      "           Date Description      Deposits  Withdrawls       Balance\n",
      "0    2020-08-20        Cash     97,540.00        0.00    170,542.01\n",
      "24   2020-08-20        NEFT  1,986,737.80        0.00  1,992,819.23\n",
      "25   2020-08-20    Reversal         00.00   664273.08  1,328,546.15\n",
      "26   2020-08-20        Cash         03.81        0.00  1,328,549.96\n",
      "27   2020-08-20        RTGS      1,474.00        0.00  1,330,023.96\n",
      "...         ...         ...           ...         ...           ...\n",
      "9994 2021-09-08    Transfer         00.00    41219.93    370,979.34\n",
      "9995 2021-09-08         ATM         02.70        0.00    370,982.04\n",
      "9996 2021-09-08        RTGS         00.00    37098.20    333,883.84\n",
      "9997 2021-09-08    Purchase         00.00   111294.61    222,589.23\n",
      "9999 2021-09-08    Purchase     93,504.00        0.00    316,093.91\n",
      "\n",
      "[10000 rows x 5 columns]\n"
     ]
    }
   ],
   "source": [
    "print(data)"
   ]
  },
  {
   "cell_type": "code",
   "execution_count": 9,
   "id": "740fac30-1a33-474a-a38e-e6a2dc8c66da",
   "metadata": {},
   "outputs": [],
   "source": [
    "#get first month\n",
    "firstmonth=data['Date'].dt.to_period('M').iloc[0]"
   ]
  },
  {
   "cell_type": "code",
   "execution_count": 10,
   "id": "82e4b405-89b0-499b-aeb4-8de83f031f20",
   "metadata": {},
   "outputs": [
    {
     "name": "stdout",
     "output_type": "stream",
     "text": [
      "          Date Description      Deposits  Withdrawls       Balance\n",
      "0   2020-08-20        Cash     97,540.00        0.00    170,542.01\n",
      "24  2020-08-20        NEFT  1,986,737.80        0.00  1,992,819.23\n",
      "25  2020-08-20    Reversal         00.00   664273.08  1,328,546.15\n",
      "26  2020-08-20        Cash         03.81        0.00  1,328,549.96\n",
      "27  2020-08-20        RTGS      1,474.00        0.00  1,330,023.96\n",
      "..         ...         ...           ...         ...           ...\n",
      "289 2020-08-30      Cheque         00.00       57.81         57.80\n",
      "296 2020-08-30         ATM      3,312.00        0.00  1,054,995.46\n",
      "287 2020-08-30        RTGS         00.00       26.98        134.88\n",
      "307 2020-08-31  Commission         17.00        0.00    440,469.07\n",
      "308 2020-08-31    Interest         00.00   220234.54    220,234.54\n",
      "\n",
      "[309 rows x 5 columns]\n"
     ]
    }
   ],
   "source": [
    "#filtering\n",
    "first_month_data=data[data['Date'].dt.to_period('M')==firstmonth]\n",
    "print(first_month_data)"
   ]
  },
  {
   "cell_type": "code",
   "execution_count": 14,
   "id": "e684f54b-ea9c-400a-b978-7dabad47162f",
   "metadata": {},
   "outputs": [
    {
     "name": "stdout",
     "output_type": "stream",
     "text": [
      "         Date  Withdrawls\n",
      "0  2020-08-20  3796158.91\n",
      "1  2020-08-21  1182161.73\n",
      "2  2020-08-22  2162656.09\n",
      "3  2020-08-23  3825876.10\n",
      "4  2020-08-24  2331882.86\n",
      "5  2020-08-25      420.51\n",
      "6  2020-08-26    12234.78\n",
      "7  2020-08-27  1440964.34\n",
      "8  2020-08-28   520073.89\n",
      "9  2020-08-29  3656642.40\n",
      "10 2020-08-30   877469.30\n",
      "11 2020-08-31   220234.54\n"
     ]
    }
   ],
   "source": [
    "#grouping\n",
    "withdrawl_sum=first_month_data.groupby('Date')['Withdrawls'].sum().reset_index()\n",
    "print(withdrawl_sum)"
   ]
  },
  {
   "cell_type": "code",
   "execution_count": 13,
   "id": "f1fc1543-c2db-4de6-84f6-1800f6ad5f8d",
   "metadata": {},
   "outputs": [
    {
     "name": "stdout",
     "output_type": "stream",
     "text": [
      "(array([      0.,  500000., 1000000., 1500000., 2000000., 2500000.,\n",
      "       3000000., 3500000., 4000000., 4500000.]), [Text(0, 0.0, '0.0'), Text(0, 500000.0, '0.5'), Text(0, 1000000.0, '1.0'), Text(0, 1500000.0, '1.5'), Text(0, 2000000.0, '2.0'), Text(0, 2500000.0, '2.5'), Text(0, 3000000.0, '3.0'), Text(0, 3500000.0, '3.5'), Text(0, 4000000.0, '4.0'), Text(0, 4500000.0, '4.5')])\n"
     ]
    },
    {
     "data": {
      "image/png": "[encoded data removed]",
      "text/plain": [
       "<Figure size 1000x500 with 1 Axes>"
      ]
     },
     "metadata": {},
     "output_type": "display_data"
    }
   ],
   "source": [
    "plt.figure(figsize=(10, 5))\n",
    "plt.bar(withdrawl_sum['Date'].dt.strftime('%d-%b-%Y'), withdrawl_sum['Withdrawls'], color='skyblue')\n",
    "plt.xticks(rotation=45,fontsize=7)\n",
    "plt.yticks(fontsize=7)\n",
    "print(plt.yticks())"
   ]
  },
  {
   "cell_type": "code",
   "execution_count": null,
   "id": "8595c3ff-8dc2-422c-81de-a33d6c9aa0e9",
   "metadata": {},
   "outputs": [],
   "source": []
  }
 ],
 "metadata": {
  "kernelspec": {
   "display_name": "Python 3 (ipykernel)",
   "language": "python",
   "name": "python3"
  },
  "language_info": {
   "codemirror_mode": {
    "name": "ipython",
    "version": 3
   },
   "file_extension": ".py",
   "mimetype": "text/x-python",
   "name": "python",
   "nbconvert_exporter": "python",
   "pygments_lexer": "ipython3",
   "version": "3.12.3"
  }
 },
 "nbformat": 4,
 "nbformat_minor": 5
}
