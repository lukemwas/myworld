{
 "cells": [
  {
   "cell_type": "code",
   "execution_count": 1,
   "id": "1def149f-9c5e-416f-a0be-e4e1bea09ae0",
   "metadata": {},
   "outputs": [],
   "source": [
    "import pandas as pd\n",
    "import numpy as np\n",
    "from matplotlib import pyplot as plt"
   ]
  },
  {
   "cell_type": "code",
   "execution_count": 2,
   "id": "c4d63d31-0440-4391-9429-9186943af808",
   "metadata": {},
   "outputs": [],
   "source": [
    "data = pd.read_csv(\"10000 BT Records.csv\")"
   ]
  },
  {
   "cell_type": "code",
   "execution_count": 3,
   "id": "bb0e66aa-d958-462a-8483-c3e93ade9ef5",
   "metadata": {},
   "outputs": [],
   "source": [
    "data[\"Deposits\"]=pd.to_numeric(data[\"Deposits\"].str.replace(\",\",\"\"), errors=\"coerce\")"
   ]
  },
  {
   "cell_type": "code",
   "execution_count": 4,
   "id": "ac37f005-8f80-4f64-8e34-b836c3e98729",
   "metadata": {},
   "outputs": [
    {
     "name": "stdout",
     "output_type": "stream",
     "text": [
      "<class 'pandas.core.frame.DataFrame'>\n",
      "RangeIndex: 10000 entries, 0 to 9999\n",
      "Data columns (total 5 columns):\n",
      " #   Column       Non-Null Count  Dtype  \n",
      "---  ------       --------------  -----  \n",
      " 0   Date         10000 non-null  object \n",
      " 1   Description  10000 non-null  object \n",
      " 2   Deposits     10000 non-null  float64\n",
      " 3   Withdrawls   10000 non-null  object \n",
      " 4   Balance      10000 non-null  object \n",
      "dtypes: float64(1), object(4)\n",
      "memory usage: 390.8+ KB\n"
     ]
    }
   ],
   "source": [
    "data.info()"
   ]
  },
  {
   "cell_type": "code",
   "execution_count": 5,
   "id": "937024b8-1022-4142-8754-02735a61ff8f",
   "metadata": {},
   "outputs": [],
   "source": [
    "data['Date']=pd.to_datetime(data['Date'], format='%d-%b-%Y')"
   ]
  },
  {
   "cell_type": "code",
   "execution_count": 6,
   "id": "1ad7b93c-f4d1-4592-9138-1bdb9df51011",
   "metadata": {},
   "outputs": [
    {
     "name": "stdout",
     "output_type": "stream",
     "text": [
      "<class 'pandas.core.frame.DataFrame'>\n",
      "RangeIndex: 10000 entries, 0 to 9999\n",
      "Data columns (total 5 columns):\n",
      " #   Column       Non-Null Count  Dtype         \n",
      "---  ------       --------------  -----         \n",
      " 0   Date         10000 non-null  datetime64[ns]\n",
      " 1   Description  10000 non-null  object        \n",
      " 2   Deposits     10000 non-null  float64       \n",
      " 3   Withdrawls   10000 non-null  object        \n",
      " 4   Balance      10000 non-null  object        \n",
      "dtypes: datetime64[ns](1), float64(1), object(3)\n",
      "memory usage: 390.8+ KB\n"
     ]
    }
   ],
   "source": [
    "data.info()"
   ]
  },
  {
   "cell_type": "code",
   "execution_count": 7,
   "id": "993e4d59-ac47-47b2-a321-2e7918143cfd",
   "metadata": {},
   "outputs": [],
   "source": [
    "data=data.sort_values(by='Date')"
   ]
  },
  {
   "cell_type": "code",
   "execution_count": 8,
   "id": "bfbc1b4c-9c41-49af-a58e-f0d6506fb064",
   "metadata": {},
   "outputs": [
    {
     "name": "stdout",
     "output_type": "stream",
     "text": [
      "           Date Description    Deposits  Withdrawls       Balance\n",
      "0    2020-08-20        Cash    97540.00       00.00    170,542.01\n",
      "24   2020-08-20        NEFT  1986737.80       00.00  1,992,819.23\n",
      "25   2020-08-20    Reversal        0.00  664,273.08  1,328,546.15\n",
      "26   2020-08-20        Cash        3.81       00.00  1,328,549.96\n",
      "27   2020-08-20        RTGS     1474.00       00.00  1,330,023.96\n",
      "...         ...         ...         ...         ...           ...\n",
      "9994 2021-09-08    Transfer        0.00   41,219.93    370,979.34\n",
      "9995 2021-09-08         ATM        2.70       00.00    370,982.04\n",
      "9996 2021-09-08        RTGS        0.00   37,098.20    333,883.84\n",
      "9997 2021-09-08    Purchase        0.00  111,294.61    222,589.23\n",
      "9999 2021-09-08    Purchase    93504.00       00.00    316,093.91\n",
      "\n",
      "[10000 rows x 5 columns]\n"
     ]
    }
   ],
   "source": [
    "print(data)"
   ]
  },
  {
   "cell_type": "code",
   "execution_count": 9,
   "id": "2fcde6d5-16ec-44a9-b738-c2537a217385",
   "metadata": {},
   "outputs": [],
   "source": [
    "firstmonth=data['Date'].dt.to_period('M').iloc[0]"
   ]
  },
  {
   "cell_type": "code",
   "execution_count": 10,
   "id": "514505f5-7303-4d90-9f2d-4dd6c99e169d",
   "metadata": {},
   "outputs": [
    {
     "name": "stdout",
     "output_type": "stream",
     "text": [
      "          Date Description    Deposits  Withdrawls       Balance\n",
      "0   2020-08-20        Cash    97540.00       00.00    170,542.01\n",
      "24  2020-08-20        NEFT  1986737.80       00.00  1,992,819.23\n",
      "25  2020-08-20    Reversal        0.00  664,273.08  1,328,546.15\n",
      "26  2020-08-20        Cash        3.81       00.00  1,328,549.96\n",
      "27  2020-08-20        RTGS     1474.00       00.00  1,330,023.96\n",
      "..         ...         ...         ...         ...           ...\n",
      "289 2020-08-30      Cheque        0.00       57.81         57.80\n",
      "296 2020-08-30         ATM     3312.00       00.00  1,054,995.46\n",
      "287 2020-08-30        RTGS        0.00       26.98        134.88\n",
      "307 2020-08-31  Commission       17.00       00.00    440,469.07\n",
      "308 2020-08-31    Interest        0.00  220,234.54    220,234.54\n",
      "\n",
      "[309 rows x 5 columns]\n"
     ]
    }
   ],
   "source": [
    "first_month_data=data[data['Date'].dt.to_period('M')==firstmonth]\n",
    "print(first_month_data)"
   ]
  },
  {
   "cell_type": "code",
   "execution_count": 12,
   "id": "cfb5a94f-4fb5-43b1-92f1-8881ebe0ac28",
   "metadata": {},
   "outputs": [
    {
     "name": "stdout",
     "output_type": "stream",
     "text": [
      "         Date    Deposits\n",
      "0  2020-08-20  3876722.57\n",
      "1  2020-08-21  1389399.21\n",
      "2  2020-08-22  1808901.15\n",
      "3  2020-08-23  4079507.85\n",
      "4  2020-08-24  2071202.84\n",
      "5  2020-08-25     3364.10\n",
      "6  2020-08-26    15715.78\n",
      "7  2020-08-27  2097713.17\n",
      "8  2020-08-28      228.00\n",
      "9  2020-08-29  3513476.69\n",
      "10 2020-08-30  1317759.50\n",
      "11 2020-08-31       17.00\n"
     ]
    }
   ],
   "source": [
    "withdrawl_sum=first_month_data.groupby('Date')['Deposits'].sum().reset_index()\n",
    "print(withdrawl_sum)"
   ]
  },
  {
   "cell_type": "code",
   "execution_count": 13,
   "id": "3acfbf40-0565-497f-919b-b97755937a38",
   "metadata": {},
   "outputs": [
    {
     "name": "stdout",
     "output_type": "stream",
     "text": [
      "(array([      0.,  500000., 1000000., 1500000., 2000000., 2500000.,\n",
      "       3000000., 3500000., 4000000., 4500000.]), [Text(0, 0.0, '0.0'), Text(0, 500000.0, '0.5'), Text(0, 1000000.0, '1.0'), Text(0, 1500000.0, '1.5'), Text(0, 2000000.0, '2.0'), Text(0, 2500000.0, '2.5'), Text(0, 3000000.0, '3.0'), Text(0, 3500000.0, '3.5'), Text(0, 4000000.0, '4.0'), Text(0, 4500000.0, '4.5')])\n"
     ]
    },
    {
     "data": {
      "image/png": "[encoded data removed]",
      "text/plain": [
       "<Figure size 1000x500 with 1 Axes>"
      ]
     },
     "metadata": {},
     "output_type": "display_data"
    }
   ],
   "source": [
    "plt.figure(figsize=(10, 5))\n",
    "plt.bar(withdrawl_sum['Date'].dt.strftime('%d-%b-%Y'), withdrawl_sum['Deposits'], color='skyblue')\n",
    "plt.xticks(rotation=45,fontsize=7)\n",
    "plt.yticks(fontsize=7)\n",
    "print(plt.yticks())"
   ]
  },
  {
   "cell_type": "code",
   "execution_count": null,
   "id": "f92003e0-612b-4244-8576-524a2652cacb",
   "metadata": {},
   "outputs": [],
   "source": []
  }
 ],
 "metadata": {
  "kernelspec": {
   "display_name": "Python 3 (ipykernel)",
   "language": "python",
   "name": "python3"
  },
  "language_info": {
   "codemirror_mode": {
    "name": "ipython",
    "version": 3
   },
   "file_extension": ".py",
   "mimetype": "text/x-python",
   "name": "python",
   "nbconvert_exporter": "python",
   "pygments_lexer": "ipython3",
   "version": "3.12.3"
  }
 },
 "nbformat": 4,
 "nbformat_minor": 5
}
